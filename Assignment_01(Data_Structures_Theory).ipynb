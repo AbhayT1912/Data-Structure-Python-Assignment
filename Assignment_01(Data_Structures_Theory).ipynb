{
  "nbformat": 4,
  "nbformat_minor": 0,
  "metadata": {
    "colab": {
      "provenance": []
    },
    "kernelspec": {
      "name": "python3",
      "display_name": "Python 3"
    },
    "language_info": {
      "name": "python"
    }
  },
  "cells": [
    {
      "cell_type": "markdown",
      "source": [
        "#Data Types and Structures Theory Questions\n"
      ],
      "metadata": {
        "id": "DzzR9w6ZoUHj"
      }
    },
    {
      "cell_type": "markdown",
      "source": [
        "1.  What are data structures, and why are they important?\n",
        "\n",
        "-> A data structure is a way of organizing, managing, and storing data so that it can be accessed and modified efficiently. They define the relationship between data elements and provide specific operations for manipulating them.\n",
        "They are important because of the following reasons given below:-\n",
        "\n",
        "a. Efficiency : They enable efficient data access, search, insertion, and deletion, reducing computational complexity.\n",
        "\n",
        "b. Optimization : Choosing the right data structure can improve performance and reduce resource consumption.\n",
        "\n",
        "c. Code Maintainability : Well-structured data leads to cleaner, more readable, and maintainable code.\n",
        "\n",
        "d. Scalability : Essential for handling large datasets in applications like databases, web servers, and machine learning."
      ],
      "metadata": {
        "id": "SPSKlHYKo3BW"
      }
    },
    {
      "cell_type": "markdown",
      "source": [
        "2.  Explain the difference between mutable and immutable data types with examples.\n",
        "\n",
        "-> Data types are categorized into mutable and immutable based on whether their values can be changed after creation.\n",
        "\n",
        "a. Mutable Data Types\n",
        "Objects whose values can be modified after creation without changing their identity.\n",
        "Examples:\n",
        "Lists,\n",
        "Dictionaries,  \n",
        "Sets,\n",
        "Byte Arrays\n",
        "\n",
        "Example of Mutable Data Type:- given in code below."
      ],
      "metadata": {
        "id": "RLCE4HHCpwPQ"
      }
    },
    {
      "cell_type": "code",
      "execution_count": null,
      "metadata": {
        "colab": {
          "base_uri": "https://localhost:8080/"
        },
        "id": "rW3VRSYbnuJN",
        "outputId": "7b54d6d8-618f-4708-a9af-65e15051bfad"
      },
      "outputs": [
        {
          "output_type": "stream",
          "name": "stdout",
          "text": [
            "[1, 2, 3, 4]\n",
            "[0, 2, 3, 4]\n"
          ]
        }
      ],
      "source": [
        "my_list = [1, 2, 3]\n",
        "my_list.append(4)\n",
        "print(my_list)\n",
        "my_list[0] = 0\n",
        "print(my_list)"
      ]
    },
    {
      "cell_type": "markdown",
      "source": [
        "b. Immutable Data Types\n",
        "Objects whose values cannot be modified after creation. Any operation that seems to modify the object actually creates a new object.\n",
        "Examples:\n",
        "Tuples,\n",
        "Strings,\n",
        "Integers,\n",
        "Floats,\n",
        "Booleans,\n",
        "Example of Immutable Data Type (String):- given in code given below:"
      ],
      "metadata": {
        "id": "0L8kQfxtq_kr"
      }
    },
    {
      "cell_type": "code",
      "source": [
        "my_str = \"Hello\"\n",
        "print(my_str)\n",
        "my_str[0]= 'h'  #error :- 'str' object does not support item assignment\n",
        "print(my_str)"
      ],
      "metadata": {
        "colab": {
          "base_uri": "https://localhost:8080/",
          "height": 216
        },
        "id": "v2IA_qIcrX_H",
        "outputId": "3b83986a-ef58-41e0-c77d-0138232e080c"
      },
      "execution_count": null,
      "outputs": [
        {
          "output_type": "stream",
          "name": "stdout",
          "text": [
            "Hello\n"
          ]
        },
        {
          "output_type": "error",
          "ename": "TypeError",
          "evalue": "'str' object does not support item assignment",
          "traceback": [
            "\u001b[0;31m---------------------------------------------------------------------------\u001b[0m",
            "\u001b[0;31mTypeError\u001b[0m                                 Traceback (most recent call last)",
            "\u001b[0;32m<ipython-input-3-e9085c65b9a9>\u001b[0m in \u001b[0;36m<cell line: 0>\u001b[0;34m()\u001b[0m\n\u001b[1;32m      1\u001b[0m \u001b[0mmy_str\u001b[0m \u001b[0;34m=\u001b[0m \u001b[0;34m\"Hello\"\u001b[0m\u001b[0;34m\u001b[0m\u001b[0;34m\u001b[0m\u001b[0m\n\u001b[1;32m      2\u001b[0m \u001b[0mprint\u001b[0m\u001b[0;34m(\u001b[0m\u001b[0mmy_str\u001b[0m\u001b[0;34m)\u001b[0m\u001b[0;34m\u001b[0m\u001b[0;34m\u001b[0m\u001b[0m\n\u001b[0;32m----> 3\u001b[0;31m \u001b[0mmy_str\u001b[0m\u001b[0;34m[\u001b[0m\u001b[0;36m0\u001b[0m\u001b[0;34m]\u001b[0m\u001b[0;34m=\u001b[0m \u001b[0;34m'h'\u001b[0m\u001b[0;34m\u001b[0m\u001b[0;34m\u001b[0m\u001b[0m\n\u001b[0m\u001b[1;32m      4\u001b[0m \u001b[0mprint\u001b[0m\u001b[0;34m(\u001b[0m\u001b[0mmy_str\u001b[0m\u001b[0;34m)\u001b[0m\u001b[0;34m\u001b[0m\u001b[0;34m\u001b[0m\u001b[0m\n",
            "\u001b[0;31mTypeError\u001b[0m: 'str' object does not support item assignment"
          ]
        }
      ]
    },
    {
      "cell_type": "markdown",
      "source": [
        "3. What are the main differences between lists and tuples in Python?\n",
        "\n",
        "-> In Python, both lists and tuples are used to store collections of items. However, they have key differences in terms of mutability, performance, and usage.\n",
        "\n",
        "a. Mutability\n",
        "Lists are mutable: They can be modified after creation (elements can be added, removed, or changed).\n",
        "Tuples are immutable: Once created, they cannot be changed.\n",
        "\n",
        "b. Performance\n",
        "Tuples are faster than lists because they are immutable and require less memory.\n",
        "Lists are slower as they support operations like appending and modifying.\n",
        "\n",
        "c. Syntax\n",
        "Lists use square brackets []\n",
        "Tuples use parentheses ()"
      ],
      "metadata": {
        "id": "SPoEBt-wsQW4"
      }
    },
    {
      "cell_type": "markdown",
      "source": [
        "4. Describe how dictionaries store data?\n",
        "\n",
        "-> A dictionary in Python is an unordered, mutable data structure that stores data in key-value pairs. It allows for fast lookups, insertions, and deletions.\n",
        "\n",
        "Structure of a Dictionary\n",
        "\n",
        "Keys: Must be unique and immutable (e.g., int, str, tuple).\n",
        "\n",
        "Values: Can be of any data type (mutable or immutable).\n",
        "\n",
        "Stored as: {key: value} pairs.\n"
      ],
      "metadata": {
        "id": "vQ_Ad2TYs5IZ"
      }
    },
    {
      "cell_type": "markdown",
      "source": [
        "5.  Why might you use a set instead of a list in Python?\n",
        "\n",
        "-> Both sets and lists store collections of items, but sets have unique advantages in certain scenarios.\n",
        "\n",
        "a. Sets Store Unique Elements\n",
        "Lists allow duplicate values.\n",
        "Sets automatically remove duplicates.\n",
        "\n",
        "b. Sets Offer Faster Lookups (O(1) vs. O(n))\n",
        "Lists require O(n) time to check if an element exists (linear search).\n",
        "Sets use hashing, making membership checks O(1) (constant time).\n",
        "\n",
        "c. Sets Support Mathematical Operations\n",
        "Sets provide efficient operations like union, intersection, and difference, which are not directly available with lists."
      ],
      "metadata": {
        "id": "nlBRqoaStSs6"
      }
    },
    {
      "cell_type": "markdown",
      "source": [
        "6. What is a string in Python, and how is it different from a list?\n",
        "\n",
        "-> A string in Python is a sequence of characters enclosed in quotes (' ', \" \", ''' ''', or \"\"\" \"\"\"). It is an immutable data type used to store and manipulate text.\n",
        "\n",
        "It is different from list in following ways:\n",
        "\n",
        "a. List is mutable while string are immutable.\n",
        "\n",
        "b.Strings Contain Only Characters, Lists Can Store Mixed Data."
      ],
      "metadata": {
        "id": "E8I8nOHrtwsg"
      }
    },
    {
      "cell_type": "markdown",
      "source": [
        "7. How do tuples ensure data integrity in Python?\n",
        "\n",
        "-> A tuple is an immutable data structure in Python, meaning its contents cannot be changed after creation. This immutability helps ensure data integrity by preventing accidental modifications.\n",
        "\n",
        "a. Immutability Prevents Accidental Changes\n",
        "Since tuples cannot be modified, they prevent unintended data alterations.\n",
        "This is useful in data-sensitive applications.\n",
        "\n",
        "b.  Tuples Can Be Used as Dictionary Keys."
      ],
      "metadata": {
        "id": "dKVw4vjEuoX8"
      }
    },
    {
      "cell_type": "markdown",
      "source": [
        "8. What is a hash table, and how does it relate to dictionaries in Python?\n",
        "\n",
        "-> A hash table (or hash map) is a data structure that stores key-value pairs and allows for fast retrieval, insertion, and deletion of data. It achieves this efficiency using a hash function that maps keys to specific locations in memory.\n",
        "\n",
        "Python's dictionary (dict) is implemented using a hash table. Each key in a dictionary is hashed, and its value is stored in an internal array."
      ],
      "metadata": {
        "id": "RZajPw9PvFDt"
      }
    },
    {
      "cell_type": "markdown",
      "source": [
        "9.  Can lists contain different data types in Python?\n",
        "\n",
        "-> Yes! Lists in Python can store elements of different data types within the same list. This is possible because Python lists are heterogeneous, meaning they can hold a mix of integers, strings, floats, booleans, and even other lists or objects."
      ],
      "metadata": {
        "id": "5bqDDqEbvw3G"
      }
    },
    {
      "cell_type": "markdown",
      "source": [
        "10.  Explain why strings are immutable in Python?\n",
        "\n",
        "-> In Python, strings are immutable, meaning that once a string is created, it cannot be changed. If you try to modify a string, Python will create a new string instead of changing the original one.\n",
        "\n",
        "This immutability is intentional and has several advantages.\n",
        "\n",
        "a. Memory Efficiency\n",
        "\n",
        "b. Prevents Accidental Modifications\n",
        "\n",
        "c.  Hashability: Strings Can Be Dictionary Keys."
      ],
      "metadata": {
        "id": "jLqDN7dVwJ3Q"
      }
    },
    {
      "cell_type": "markdown",
      "source": [
        "11. What advantages do dictionaries offer over lists for certain tasks?\n",
        "\n",
        "-> Advantages of Dictionaries Over Lists\n",
        "a. Faster Lookups (O(1) vs. O(n)) : Dictionaries use hash tables, making key-based lookups much faster than searching through a list.\n",
        "\n",
        "b. Key-Value Pair Storage : Allows for structured data storage, making retrieval more intuitive (e.g., user[\"age\"] instead of user[1]).\n",
        "\n",
        "c. No Need for Indexing : Items are accessed using keys rather than numerical indexes, improving readability.\n",
        "\n",
        "d. Avoids Duplicates : Keys in dictionaries are unique, ensuring no duplicate entries.\n",
        "\n",
        "e. More Memory Efficient for Sparse Data : Storing associative data is more efficient in dictionaries compared to lists with placeholders."
      ],
      "metadata": {
        "id": "uGRXWnIzwx6R"
      }
    },
    {
      "cell_type": "markdown",
      "source": [
        "12. Describe a scenario where using a tuple would be preferable over a list.\n",
        "\n",
        "-> Storing coordinates (latitude, longitude) in a mapping application.\n",
        "\n",
        "because:-\n",
        "\n",
        "Tuples are immutable, preventing accidental modification.\n",
        "They use less memory, improving performance.\n",
        "Tuples can be used as dictionary keys for fast lookups."
      ],
      "metadata": {
        "id": "CzpkKFpNxTgF"
      }
    },
    {
      "cell_type": "markdown",
      "source": [
        "13.  How do sets handle duplicate values in Python?\n",
        "\n",
        "-> Sets handle duplicate values by automatically removing them. They only store unique elements, ensuring no repetitions.\n",
        "\n",
        "for example :- code given below."
      ],
      "metadata": {
        "id": "oS-pQJxWx70t"
      }
    },
    {
      "cell_type": "code",
      "source": [
        "my_set = {1, 2, 2, 3, 4, 4, 5}\n",
        "print(my_set)  # Output: {1, 2, 3, 4, 5}\n"
      ],
      "metadata": {
        "id": "WDOBXE8jyi8f"
      },
      "execution_count": null,
      "outputs": []
    },
    {
      "cell_type": "markdown",
      "source": [
        "14. How does the “in” keyword work differently for lists and dictionaries?\n",
        "\n",
        "-> For lists: The \"in\" keyword checks if a value exists, performing a linear search (O(n)).\n",
        "\n",
        " For dictionaries: The \"in\" keyword checks for a key, using a hash table (O(1)), making lookups much faster."
      ],
      "metadata": {
        "id": "HqHBt-QVykxK"
      }
    },
    {
      "cell_type": "markdown",
      "source": [
        "15. Can you modify the elements of a tuple? Explain why or why not?\n",
        "\n",
        "-> No, you cannot modify elements of a tuple because tuples are immutable. Once created, their elements cannot be changed, added, or removed. This ensures data integrity and stability in programs."
      ],
      "metadata": {
        "id": "liMIWghiy0mf"
      }
    },
    {
      "cell_type": "markdown",
      "source": [
        "16. What is a nested dictionary, and give an example of its use case?\n",
        "\n",
        "->  A nested dictionary is a dictionary inside another dictionary, allowing hierarchical data storage.\n",
        "\n",
        "Use Case: Storing student records with multiple attributes.\n",
        "\n",
        "Example:code given below."
      ],
      "metadata": {
        "id": "iLrGdt6uzCut"
      }
    },
    {
      "cell_type": "code",
      "source": [
        "students = {\n",
        "    \"Alice\": {\"age\": 20, \"grade\": \"A\"},\n",
        "    \"Bob\": {\"age\": 22, \"grade\": \"B\"}\n",
        "}\n",
        "print(students[\"Alice\"][\"grade\"])  # Output: A\n"
      ],
      "metadata": {
        "id": "1EJPMEAyzdkL"
      },
      "execution_count": null,
      "outputs": []
    },
    {
      "cell_type": "markdown",
      "source": [
        "17. Describe the time complexity of accessing elements in a dictionary.\n",
        "\n",
        "-> Accessing elements in a dictionary has an average time complexity of O(1) (constant time) due to hash table implementation.\n",
        "\n",
        "In the worst case (hash collisions), the time complexity can be O(n), but Python optimizes hashing to keep lookups efficient."
      ],
      "metadata": {
        "id": "IxKOcfLszk_n"
      }
    },
    {
      "cell_type": "markdown",
      "source": [
        "18.  In what situations are lists preferred over dictionaries.\n",
        "\n",
        "-> Lists are preferred over dictionaries when:\n",
        "\n",
        "a. Order matters (Lists maintain insertion order, while dicts do from Python 3.7+).\n",
        "\n",
        "b. Sequential data is needed (e.g., processing items one by one).\n",
        "\n",
        "c. Fast indexing is required (Lists allow direct access via index, O(1)).\n",
        "\n",
        "d. Memory efficiency is a priority (Lists use less memory than dictionaries).\n",
        "\n",
        "e. No need for key-value pairs, just a collection of values."
      ],
      "metadata": {
        "id": "t0SZ8BWgzzIR"
      }
    },
    {
      "cell_type": "markdown",
      "source": [
        "19. Why are dictionaries considered unordered, and how does that affect data retrieval?\n",
        "\n",
        "-> Dictionaries were considered unordered before Python 3.7 because they used hash tables, which do not guarantee order.\n",
        "\n",
        "Dictionaries maintain insertion order, but retrieval is still based on keys, not positions.\n",
        "\n",
        "Effect on data retrieval:\n",
        "\n",
        "Items are accessed by keys, not index positions.\n",
        "\n",
        "Iteration order follows insertion sequence .\n",
        "\n",
        "Faster lookups (O(1)), but no sequential access like lists."
      ],
      "metadata": {
        "id": "T2AExaSd0YsT"
      }
    },
    {
      "cell_type": "markdown",
      "source": [
        "20. Explain the difference between a list and a dictionary in terms of data retrieval.\n",
        "\n",
        "->  Lists:\n",
        "\n",
        "Retrieve elements by index (position-based).\n",
        "\n",
        "Lookup time is O(1) for direct indexing, O(n) for searching a value.\n",
        "\n",
        "Dictionaries:\n",
        "\n",
        "Retrieve elements by key (key-value mapping).\n",
        "\n",
        "Lookup time is O(1) on average, using a hash table.\n",
        "\n",
        "Difference: Lists use positional access, while dictionaries use key-based access, making dictionary lookups faster for large datasets."
      ],
      "metadata": {
        "id": "co_Fv2C50yRd"
      }
    },
    {
      "cell_type": "markdown",
      "source": [
        "# Data Structures Coding Questions"
      ],
      "metadata": {
        "id": "5sSiJrV6J60N"
      }
    },
    {
      "cell_type": "code",
      "source": [
        "# Question 1: Write a code to create a string with your name and print it\n",
        "name = input(\"Enter your name: \")  #Enter your name: Abhay Thakur\n",
        "print(name)"
      ],
      "metadata": {
        "colab": {
          "base_uri": "https://localhost:8080/"
        },
        "id": "Q1kbXZ47KC-r",
        "outputId": "f09a0b09-2a42-442e-8678-90e7fba4c516"
      },
      "execution_count": null,
      "outputs": [
        {
          "output_type": "stream",
          "name": "stdout",
          "text": [
            "Enter your name: Abhay Thakur\n",
            "Abhay Thakur\n"
          ]
        }
      ]
    },
    {
      "cell_type": "code",
      "source": [
        "# Question 2: Write a code to find the length of the string \"Hello World\"\n",
        "str = \"Hello World\"\n",
        "print(len(str))"
      ],
      "metadata": {
        "colab": {
          "base_uri": "https://localhost:8080/"
        },
        "id": "qUjqTBYOKqJY",
        "outputId": "0d8c255d-bec8-43d4-fc20-19546d8e336f"
      },
      "execution_count": null,
      "outputs": [
        {
          "output_type": "stream",
          "name": "stdout",
          "text": [
            "11\n"
          ]
        }
      ]
    },
    {
      "cell_type": "code",
      "source": [
        "# Question 3: Write a code to slice the first 3 characters from the string \"Python Programming\"\n",
        "str = \"Python Programming\"\n",
        "print(str[0:3])"
      ],
      "metadata": {
        "colab": {
          "base_uri": "https://localhost:8080/"
        },
        "id": "wEibN1PeK0W_",
        "outputId": "293d1612-4f8d-4843-f2d7-de75fe5fed2e"
      },
      "execution_count": null,
      "outputs": [
        {
          "output_type": "stream",
          "name": "stdout",
          "text": [
            "Pyt\n"
          ]
        }
      ]
    },
    {
      "cell_type": "code",
      "source": [
        "# Question 4: Write a code to convert the string \"hello\" to uppercase\n",
        "str = \"hello\"\n",
        "print(str.upper())"
      ],
      "metadata": {
        "colab": {
          "base_uri": "https://localhost:8080/"
        },
        "id": "FJvXxEqwLHUk",
        "outputId": "463cd11e-96ec-4f75-94a5-a21b41de5cc9"
      },
      "execution_count": null,
      "outputs": [
        {
          "output_type": "stream",
          "name": "stdout",
          "text": [
            "HELLO\n"
          ]
        }
      ]
    },
    {
      "cell_type": "code",
      "source": [
        "# Question 5:  Write a code to replace the word \"apple\" with \"orange\" in the string \"I like apple\"\n",
        "str = \"I like apple\"\n",
        "print(str.replace(\"apple\", \"orange\"))"
      ],
      "metadata": {
        "colab": {
          "base_uri": "https://localhost:8080/"
        },
        "id": "7p3ram2tLTBC",
        "outputId": "4b437dd6-8a18-4007-a21e-3257852c3112"
      },
      "execution_count": null,
      "outputs": [
        {
          "output_type": "stream",
          "name": "stdout",
          "text": [
            "I like orange\n"
          ]
        }
      ]
    },
    {
      "cell_type": "code",
      "source": [
        "# Question 6: Write a code to create a list with numbers 1 to 5 and print it\n",
        "list = [1, 2, 3, 4, 5]\n",
        "print(list)"
      ],
      "metadata": {
        "colab": {
          "base_uri": "https://localhost:8080/"
        },
        "id": "MJLFsMysLdH0",
        "outputId": "1d7b5e4b-4808-40f9-aff7-43bb74866bbd"
      },
      "execution_count": null,
      "outputs": [
        {
          "output_type": "stream",
          "name": "stdout",
          "text": [
            "[1, 2, 3, 4, 5]\n"
          ]
        }
      ]
    },
    {
      "cell_type": "code",
      "source": [
        "# Question 7: Write a code to append the number 10 to the list [1, 2, 3, 4]\n",
        "list = [1, 2, 3, 4]\n",
        "list.append(10)\n",
        "print(list)"
      ],
      "metadata": {
        "colab": {
          "base_uri": "https://localhost:8080/"
        },
        "id": "4tZMx_hJLsz_",
        "outputId": "5ba0609e-b060-4a20-af37-16d4986e539c"
      },
      "execution_count": null,
      "outputs": [
        {
          "output_type": "stream",
          "name": "stdout",
          "text": [
            "[1, 2, 3, 4, 10]\n"
          ]
        }
      ]
    },
    {
      "cell_type": "code",
      "source": [
        "# Question 8: Write a code to remove the number 3 from the list [1, 2, 3, 4, 5]\n",
        "list = [1, 2, 3, 4, 5]\n",
        "list.remove(3)\n",
        "print(list)"
      ],
      "metadata": {
        "colab": {
          "base_uri": "https://localhost:8080/"
        },
        "id": "w8eIV3YiL54O",
        "outputId": "a410ceeb-36a9-4908-87d7-0526ae88cd09"
      },
      "execution_count": null,
      "outputs": [
        {
          "output_type": "stream",
          "name": "stdout",
          "text": [
            "[1, 2, 4, 5]\n"
          ]
        }
      ]
    },
    {
      "cell_type": "code",
      "source": [
        "# Question 9 : Write a code to access the second element in the list ['a', 'b', 'c', 'd']\n",
        "list = ['a', 'b', 'c', 'd']\n",
        "print(list[1])"
      ],
      "metadata": {
        "colab": {
          "base_uri": "https://localhost:8080/"
        },
        "id": "mIwEcSoVMEPW",
        "outputId": "41c6dd9a-bab9-4f3a-aa1b-13ecb34778b7"
      },
      "execution_count": null,
      "outputs": [
        {
          "output_type": "stream",
          "name": "stdout",
          "text": [
            "b\n"
          ]
        }
      ]
    },
    {
      "cell_type": "code",
      "source": [
        "# Question 10:  Write a code to reverse the list [10, 20, 30, 40, 50].\n",
        "list = [10,20,30,40,50]\n",
        "print(list[::-1])"
      ],
      "metadata": {
        "colab": {
          "base_uri": "https://localhost:8080/"
        },
        "id": "cXW68AuAMNnb",
        "outputId": "1ba6d6f6-3d54-45fd-c1d7-12e66aca79e2"
      },
      "execution_count": null,
      "outputs": [
        {
          "output_type": "stream",
          "name": "stdout",
          "text": [
            "[50, 40, 30, 20, 10]\n"
          ]
        }
      ]
    },
    {
      "cell_type": "code",
      "source": [
        "# Question 11 :  Write a code to create a tuple with the elements 100, 200, 300 and print it.\n",
        "tuple = (100, 200, 300)\n",
        "print(tuple)"
      ],
      "metadata": {
        "colab": {
          "base_uri": "https://localhost:8080/"
        },
        "id": "mgDBSYLFMecW",
        "outputId": "aebec8e9-9969-4c8b-aa2d-96a3a7a52673"
      },
      "execution_count": null,
      "outputs": [
        {
          "output_type": "stream",
          "name": "stdout",
          "text": [
            "(100, 200, 300)\n"
          ]
        }
      ]
    },
    {
      "cell_type": "code",
      "source": [
        "# Question 12: Write a code to access the second-to-last element of the tuple ('red', 'green', 'blue', 'yellow').\n",
        "tuple = ('red', 'green', 'blue', 'yellow')\n",
        "print(tuple[-2])"
      ],
      "metadata": {
        "colab": {
          "base_uri": "https://localhost:8080/"
        },
        "id": "yo4G4wabMpvM",
        "outputId": "c7c7991f-e1dd-4f8d-fbc6-1cac26cca93e"
      },
      "execution_count": null,
      "outputs": [
        {
          "output_type": "stream",
          "name": "stdout",
          "text": [
            "blue\n"
          ]
        }
      ]
    },
    {
      "cell_type": "code",
      "source": [
        "# Question 13: Write a code to find the minimum number in the tuple (10, 20, 5, 15).\n",
        "tuple = (10, 20, 5, 15)\n",
        "print(min(tuple))"
      ],
      "metadata": {
        "colab": {
          "base_uri": "https://localhost:8080/"
        },
        "id": "KSbsOD2JMzsj",
        "outputId": "2dd4fbde-c746-4dcd-8e35-429e20286dd6"
      },
      "execution_count": null,
      "outputs": [
        {
          "output_type": "stream",
          "name": "stdout",
          "text": [
            "5\n"
          ]
        }
      ]
    },
    {
      "cell_type": "code",
      "source": [
        "# Question 14: Write a code to find the index of the element \"cat\" in the tuple ('dog', 'cat', 'rabbit')\n",
        "tuple = ('dog', 'cat', 'rabbit')\n",
        "print(tuple.index('cat'))"
      ],
      "metadata": {
        "colab": {
          "base_uri": "https://localhost:8080/"
        },
        "id": "Y4O3ub2yM9bM",
        "outputId": "d45cfa3d-dcc6-4f6c-8068-b1e05712f0af"
      },
      "execution_count": null,
      "outputs": [
        {
          "output_type": "stream",
          "name": "stdout",
          "text": [
            "1\n"
          ]
        }
      ]
    },
    {
      "cell_type": "code",
      "source": [
        "# Question 15: Write a code to create a tuple containing three different fruits and check if \"kiwi\" is in it.\n",
        "fruits = (\"apple\", \"banana\", \"orange\")\n",
        "print(\"kiwi\" in fruits)"
      ],
      "metadata": {
        "colab": {
          "base_uri": "https://localhost:8080/"
        },
        "id": "HBgr-gD4NFiD",
        "outputId": "95cb6605-f73f-4bd1-a236-21de7dccdde9"
      },
      "execution_count": null,
      "outputs": [
        {
          "output_type": "stream",
          "name": "stdout",
          "text": [
            "False\n"
          ]
        }
      ]
    },
    {
      "cell_type": "code",
      "source": [
        "# Question 16:Write a code to create a set with the elements 'a', 'b', 'c' and print it.\n",
        "set = {'a', 'b', 'c'}\n",
        "print(set)"
      ],
      "metadata": {
        "colab": {
          "base_uri": "https://localhost:8080/"
        },
        "id": "M3LMsUO5Nb2x",
        "outputId": "6a3dc8a2-7859-4a5b-b95e-10e9ae05d4c1"
      },
      "execution_count": null,
      "outputs": [
        {
          "output_type": "stream",
          "name": "stdout",
          "text": [
            "{'b', 'a', 'c'}\n"
          ]
        }
      ]
    },
    {
      "cell_type": "code",
      "source": [
        "# Question 17: Write a code to clear all elements from the set {1, 2, 3, 4, 5}.\n",
        "set = {1, 2, 3, 4, 5}\n",
        "set.clear()\n",
        "print(set)"
      ],
      "metadata": {
        "colab": {
          "base_uri": "https://localhost:8080/"
        },
        "id": "v2X1TszGNkuS",
        "outputId": "95adf925-a394-4725-9fa1-d1b32c85c043"
      },
      "execution_count": null,
      "outputs": [
        {
          "output_type": "stream",
          "name": "stdout",
          "text": [
            "set()\n"
          ]
        }
      ]
    },
    {
      "cell_type": "code",
      "source": [
        "# Question 18: Write a code to remove the element 4 from the set {1, 2, 3, 4}.\n",
        "set = {1, 2, 3, 4}\n",
        "set.remove(4)\n",
        "print(set)"
      ],
      "metadata": {
        "colab": {
          "base_uri": "https://localhost:8080/"
        },
        "id": "2-HiqMFENsV9",
        "outputId": "1724392d-a8ee-48fa-fab5-0d06b1f3c3ca"
      },
      "execution_count": null,
      "outputs": [
        {
          "output_type": "stream",
          "name": "stdout",
          "text": [
            "{1, 2, 3}\n"
          ]
        }
      ]
    },
    {
      "cell_type": "code",
      "source": [
        "# Question  19 : Write a code to find the union of two sets {1, 2, 3} and {3, 4, 5}.\n",
        "A = {1, 2, 3}\n",
        "B = {3, 4, 5}\n",
        "print(A.union(B))"
      ],
      "metadata": {
        "colab": {
          "base_uri": "https://localhost:8080/"
        },
        "id": "3A0oQV_FNzlH",
        "outputId": "5f9d7911-4e2c-45b4-c88c-666a3a15f234"
      },
      "execution_count": null,
      "outputs": [
        {
          "output_type": "stream",
          "name": "stdout",
          "text": [
            "{1, 2, 3, 4, 5}\n"
          ]
        }
      ]
    },
    {
      "cell_type": "code",
      "source": [
        "# Question 20: Write a code to find the intersection of two sets {1, 2, 3} and {2, 3, 4}.\n",
        "A = {1, 2, 3}\n",
        "B = {2, 3, 4}\n",
        "print(A.intersection(B))"
      ],
      "metadata": {
        "colab": {
          "base_uri": "https://localhost:8080/"
        },
        "id": "T9Yhe-mRN_Eb",
        "outputId": "deac6ebb-2bf4-494c-a637-bcdc23d32bab"
      },
      "execution_count": null,
      "outputs": [
        {
          "output_type": "stream",
          "name": "stdout",
          "text": [
            "{2, 3}\n"
          ]
        }
      ]
    },
    {
      "cell_type": "code",
      "source": [
        "#Question 21:  Write a code to create a dictionary with the keys \"name\", \"age\", and \"city\", and print it.\n",
        "dict = {\"name\": \"Abhay\", \"age\": 21, \"city\": \"Bhopal\"}\n",
        "print(dict)"
      ],
      "metadata": {
        "colab": {
          "base_uri": "https://localhost:8080/"
        },
        "id": "mkmZCTPcOK7i",
        "outputId": "5a0c2ac9-2dc5-480c-e48d-0ed0c2b1cb34"
      },
      "execution_count": null,
      "outputs": [
        {
          "output_type": "stream",
          "name": "stdout",
          "text": [
            "{'name': 'Abhay', 'age': 21, 'city': 'Bhopal'}\n"
          ]
        }
      ]
    },
    {
      "cell_type": "code",
      "source": [
        "# Question 22: Write a code to add a new key-value pair \"country\": \"USA\" to the dictionary {'name': 'John', 'age': 25}.\n",
        "dict = {'name': 'John', 'age': 25}\n",
        "dict[\"country\"] = \"USA\"\n",
        "print(dict)"
      ],
      "metadata": {
        "colab": {
          "base_uri": "https://localhost:8080/"
        },
        "id": "3PgGDr6POaMQ",
        "outputId": "094d8a47-1665-478b-a0f3-0ff57581eb03"
      },
      "execution_count": null,
      "outputs": [
        {
          "output_type": "stream",
          "name": "stdout",
          "text": [
            "{'name': 'John', 'age': 25, 'country': 'USA'}\n"
          ]
        }
      ]
    },
    {
      "cell_type": "code",
      "source": [
        "# Question 23:Write a code to access the value associated with the key \"name\" in the dictionary {'name': 'Alice', 'age': 30}.\n",
        "dict = {'name': 'Alice', 'age': 30}\n",
        "print(dict[\"name\"])"
      ],
      "metadata": {
        "colab": {
          "base_uri": "https://localhost:8080/"
        },
        "id": "Yt_fkuvZOnDT",
        "outputId": "85c8db16-2cc1-4395-9958-25f218e8e2d4"
      },
      "execution_count": null,
      "outputs": [
        {
          "output_type": "stream",
          "name": "stdout",
          "text": [
            "Alice\n"
          ]
        }
      ]
    },
    {
      "cell_type": "code",
      "source": [
        "# Question 24: Write a code to remove the key \"age\" from the dictionary {'name': 'Bob', 'age': 22, 'city': 'New York'}.\n",
        "dict = {'name': 'Bob', 'age': 22, 'city': 'New York'}\n",
        "del dict[\"age\"]\n",
        "print(dict)"
      ],
      "metadata": {
        "colab": {
          "base_uri": "https://localhost:8080/"
        },
        "id": "GNo8mx43OwsU",
        "outputId": "033603f6-240e-4467-b5fe-92b35e851228"
      },
      "execution_count": null,
      "outputs": [
        {
          "output_type": "stream",
          "name": "stdout",
          "text": [
            "{'name': 'Bob', 'city': 'New York'}\n"
          ]
        }
      ]
    },
    {
      "cell_type": "code",
      "source": [
        "# Question 25: Write a code to check if the key \"city\" exists in the dictionary {'name': 'Alice', 'city': 'Paris'}.\n",
        "dict = {'name': 'Alice', 'city': 'Paris'}\n",
        "print(\"city\" in dict)"
      ],
      "metadata": {
        "colab": {
          "base_uri": "https://localhost:8080/"
        },
        "id": "yaxlDSWgO9RN",
        "outputId": "fbfda8d2-db6a-42b1-a857-204825c328a1"
      },
      "execution_count": null,
      "outputs": [
        {
          "output_type": "stream",
          "name": "stdout",
          "text": [
            "True\n"
          ]
        }
      ]
    },
    {
      "cell_type": "code",
      "source": [
        "# Question 26: Write a code to create a list, a tuple, and a dictionary, and print them all.\n",
        "list = [1, 2, 3, 4, 5]\n",
        "print(list)\n",
        "tuple = (1, 2, 3, 4, 5)\n",
        "print(tuple)\n",
        "dict = {\"name\": \"Abhay\", \"age\": 21, \"city\": \"Bhopal\"}\n",
        "print(dict)"
      ],
      "metadata": {
        "colab": {
          "base_uri": "https://localhost:8080/"
        },
        "id": "SvDrO9j5PFpt",
        "outputId": "1ef7d332-3a8c-4f95-9c8d-e1119857d9ec"
      },
      "execution_count": null,
      "outputs": [
        {
          "output_type": "stream",
          "name": "stdout",
          "text": [
            "[1, 2, 3, 4, 5]\n",
            "(1, 2, 3, 4, 5)\n",
            "{'name': 'Abhay', 'age': 21, 'city': 'Bhopal'}\n"
          ]
        }
      ]
    },
    {
      "cell_type": "code",
      "source": [
        "# Question 27: Write a code to create a list of 5 random numbers between 1 and 100, sort it in ascending order, and print the result.\n",
        "list = [11,22,88,33,55]\n",
        "list.sort()\n",
        "print(list)"
      ],
      "metadata": {
        "colab": {
          "base_uri": "https://localhost:8080/"
        },
        "id": "zxeNW6BWPS-x",
        "outputId": "a2ce86cd-828a-4b25-ab1d-dc22535941a4"
      },
      "execution_count": null,
      "outputs": [
        {
          "output_type": "stream",
          "name": "stdout",
          "text": [
            "[11, 22, 33, 55, 88]\n"
          ]
        }
      ]
    },
    {
      "cell_type": "code",
      "source": [
        "# Question 28: Write a code to create a list with strings and print the element at the third index.\n",
        "list = [\"apple\", \"banana\", \"orange\", \"grape\", \"kiwi\"]\n",
        "print(list[2])"
      ],
      "metadata": {
        "colab": {
          "base_uri": "https://localhost:8080/"
        },
        "id": "7w5DdKghPv2Y",
        "outputId": "869e4d77-b136-4ba4-b8f5-b495783c6fda"
      },
      "execution_count": null,
      "outputs": [
        {
          "output_type": "stream",
          "name": "stdout",
          "text": [
            "orange\n"
          ]
        }
      ]
    },
    {
      "cell_type": "code",
      "source": [
        "# Question 29: Write a code to combine two dictionaries into one and print the result.\n",
        "dict1 = {\"name\": \"Abhay\", \"age\": 21}\n",
        "dict2 = {\"city\": \"Bhopal\", \"country\": \"India\"}\n",
        "dict1.update(dict2)\n",
        "print(dict1)"
      ],
      "metadata": {
        "colab": {
          "base_uri": "https://localhost:8080/"
        },
        "id": "a1YpW6q8QCtl",
        "outputId": "76a6e7b8-686a-456d-a454-be5b9ec9f11d"
      },
      "execution_count": null,
      "outputs": [
        {
          "output_type": "stream",
          "name": "stdout",
          "text": [
            "{'name': 'Abhay', 'age': 21, 'city': 'Bhopal', 'country': 'India'}\n"
          ]
        }
      ]
    },
    {
      "cell_type": "code",
      "source": [
        "# Question 30: Write a code to convert a list of strings into a set.\n",
        "string_list = [\"apple\", \"banana\", \"cherry\", \"apple\", \"date\"]\n",
        "result = set(string_list)\n",
        "print(result)"
      ],
      "metadata": {
        "id": "naEb_fAeR4E_"
      },
      "execution_count": null,
      "outputs": []
    }
  ]
}